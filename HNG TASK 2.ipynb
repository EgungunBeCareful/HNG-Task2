{
 "cells": [
  {
   "cell_type": "code",
   "execution_count": null,
   "metadata": {},
   "outputs": [
    {
     "name": "stdout",
     "output_type": "stream",
     "text": [
      "Congratulations! - Welcome to HNG TECH, let's get you onboard\n",
      "First Name: fredd\n",
      "Last Name: dffds\n",
      "Email: dfgf\n",
      "Thanks Buddie! your details have been received\n",
      "Your details are: FREDD DFFDS dfgf\n",
      "Your Password is:  FRDS^rKAI\n",
      "Enter 1 if Password is Okay or 0 to create new password:  1\n",
      "1\n"
     ]
    }
   ],
   "source": [
    "#Get details from new employees\n",
    "\n",
    "print(\"Congratulations! - Welcome to HNG TECH, let's get you onboard\")\n",
    "\n",
    "\n",
    "def details(first_name, last_name, email):\n",
    "    print(\"Thanks Buddie! your details have been received\")\n",
    "    print(\"Your details are:\" ,fn, ln, e)\n",
    "        \n",
    "    \n",
    "fn = str(input(\"First Name: \")).upper()\n",
    "ln = str(input(\"Last Name: \")).upper()\n",
    "e = str(input(\"Email: \"))\n",
    "\n",
    "details(fn,ln, e)\n",
    "\n",
    "#slicing fn and ln to combine first two letters of first name and last two letters of last name\n",
    "\n",
    "first_name_1 = fn[:2]\n",
    "last_name_1 = ln[-2:]\n",
    "\n",
    " \n",
    "#import random module to combine 5 random characters with result of slicing to create default password with 9 characters\n",
    "\n",
    "import random\n",
    "\n",
    "scrap = \"abcdefghijklmnopqrstuvwxyz01234567890ABCDEFGHIJKLMNOPQRSTUVWXYZ!@#$%^&*()?\"\n",
    "\n",
    "passlen = 5\n",
    "\n",
    "suffix =  \"\".join(random.sample(scrap,passlen))\n",
    "\n",
    "pwd = print(\"Your Password is: \",  first_name_1 + last_name_1 + suffix)\n",
    "\n",
    "# Confirm if user approves password or prompt to create a new one\n",
    "\n",
    "print(int(input(\"Enter 1 if Password is Okay or 0 to create new password:  \")))\n",
    "    \n",
    "\n",
    "is_okay = 1\n",
    "is_not_okay = 0\n",
    "\n",
    "while is_okay == 1:\n",
    "    user = print(\"Your details are: \" ,pwd, fn, ln, e)\n",
    "    \n",
    "if is_okay != 1:\n",
    "     print(input(\"Create a password equal or greater than 7 characters: \"))\n",
    "\n",
    "      \n",
    "        \n",
    "            \n",
    "    \n",
    "    "
   ]
  },
  {
   "cell_type": "code",
   "execution_count": null,
   "metadata": {},
   "outputs": [],
   "source": []
  },
  {
   "cell_type": "code",
   "execution_count": null,
   "metadata": {},
   "outputs": [],
   "source": []
  }
 ],
 "metadata": {
  "kernelspec": {
   "display_name": "Python 3",
   "language": "python",
   "name": "python3"
  },
  "language_info": {
   "codemirror_mode": {
    "name": "ipython",
    "version": 3
   },
   "file_extension": ".py",
   "mimetype": "text/x-python",
   "name": "python",
   "nbconvert_exporter": "python",
   "pygments_lexer": "ipython3",
   "version": "3.7.3"
  }
 },
 "nbformat": 4,
 "nbformat_minor": 2
}
